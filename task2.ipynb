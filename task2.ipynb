{
 "cells": [
  {
   "cell_type": "code",
   "execution_count": null,
   "id": "7d844c75-1814-4a06-86f5-eb09d8db4882",
   "metadata": {},
   "outputs": [],
   "source": [
    "import pandas as pd\n",
    "import json\n",
    "\n",
    "data = []\n",
    "jsonl_file = \"/kaggle/input/task-2-clickbait-detection-msci641-s23-spoiler-gen/train.jsonl\"\n",
    "with open(jsonl_file, 'r', encoding='utf-8') as file:\n",
    "    for line in file:\n",
    "        data.append(json.loads(line))\n",
    "df = pd.DataFrame(data)\n",
    "df"
   ]
  },
  {
   "cell_type": "code",
   "execution_count": null,
   "id": "51b5387c-27de-4240-b602-2c510125c3ae",
   "metadata": {},
   "outputs": [],
   "source": [
    "df['targetParagraphs'] = df['targetParagraphs'].apply(lambda x: ' '.join(map(str, x)) if x is not None else 'None')\n",
    "df['spoiler'] = df['spoiler'].apply(lambda x: ' '.join(map(str, x)) if x is not None else 'None')\n",
    "df_train = df[['targetParagraphs', 'spoiler']]\n",
    "df_train"
   ]
  },
  {
   "cell_type": "code",
   "execution_count": null,
   "id": "9c2ba11b-bb17-4756-8d54-9b8e0db02125",
   "metadata": {},
   "outputs": [],
   "source": [
    "df_train.to_csv('/kaggle/working/train.csv')"
   ]
  },
  {
   "cell_type": "code",
   "execution_count": null,
   "id": "18b0c20f-7582-45d3-89b7-2eca8beb40e4",
   "metadata": {},
   "outputs": [],
   "source": [
    "import pandas as pd\n",
    "\n",
    "data = []\n",
    "jsonl_file = \"/kaggle/input/task-2-clickbait-detection-msci641-s23-spoiler-gen/test.jsonl\"\n",
    "with open(jsonl_file, 'r', encoding='utf-8') as file:\n",
    "    for line in file:\n",
    "        data.append(json.loads(line))\n",
    "df = pd.DataFrame(data)\n",
    "df['targetParagraphs'] = df['targetParagraphs'].apply(lambda x: ' '.join(map(str, x)) if x is not None else 'None')\n",
    "\n",
    "df_test = df['targetParagraphs']\n",
    "df_test.to_csv('/kaggle/working/test.csv')"
   ]
  },
  {
   "cell_type": "code",
   "execution_count": null,
   "id": "e17f849b-0885-4458-bcf0-ccaf27cc12a9",
   "metadata": {},
   "outputs": [],
   "source": [
    "import torch\n",
    "from torch.utils.data import Dataset, DataLoader\n",
    "from transformers import T5Tokenizer, T5ForConditionalGeneration, AdamW, get_linear_schedule_with_warmup\n",
    "import pandas as pd\n",
    "\n",
    "class MyDataset(Dataset):\n",
    "    def __init__(self, data, tokenizer, source_len, summ_len):\n",
    "        self.tokenizer = tokenizer\n",
    "        self.data = data\n",
    "        self.source_len = source_len\n",
    "        self.summ_len = summ_len\n",
    "\n",
    "    def __len__(self):\n",
    "        return len(self.data)\n",
    "\n",
    "    def __getitem__(self, index):\n",
    "        d = self.data.iloc[index]\n",
    "        \n",
    "        source = d['targetParagraphs']\n",
    "        target = d['spoiler']\n",
    "\n",
    "        source = 'summarize: ' + source\n",
    "        source_tokenized = self.tokenizer.encode_plus(\n",
    "            source,\n",
    "            max_length=self.source_len,\n",
    "            pad_to_max_length=True,\n",
    "            return_tensors='pt')\n",
    "        \n",
    "        target_tokenized = self.tokenizer.encode_plus(\n",
    "            target,\n",
    "            max_length=self.summ_len,\n",
    "            pad_to_max_length=True,\n",
    "            return_tensors='pt')\n",
    "        \n",
    "        source_ids = source_tokenized['input_ids'].squeeze()\n",
    "        source_mask = source_tokenized['attention_mask'].squeeze()\n",
    "        target_ids = target_tokenized['input_ids'].squeeze()\n",
    "\n",
    "        return {\n",
    "            'source_ids': source_ids,\n",
    "            'source_mask': source_mask,\n",
    "            'target_ids': target_ids,\n",
    "        }\n",
    "\n",
    "\n",
    "model_name = 't5-base'\n",
    "tokenizer = T5Tokenizer.from_pretrained(model_name)\n",
    "model = T5ForConditionalGeneration.from_pretrained(model_name)\n",
    "\n",
    "\n",
    "source_len = 512\n",
    "summ_len = 128\n",
    "batch_size = 4\n",
    "num_epochs = 10\n",
    "\n",
    "lr = 1e-5\n",
    "\n",
    "\n",
    "train_data = pd.read_csv('/kaggle/working/train.csv')\n",
    "test_data = pd.read_csv('/kaggle/working/test.csv')\n",
    "\n",
    "num_training_steps = num_epochs * len(train_data) // batch_size\n",
    "\n",
    "train_dataset = MyDataset(train_data, tokenizer, source_len, summ_len)\n",
    "train_loader = DataLoader(train_dataset, batch_size=batch_size)\n",
    "\n",
    "\n",
    "optimizer = AdamW(model.parameters(), lr=lr)\n",
    "scheduler = get_linear_schedule_with_warmup(optimizer, num_warmup_steps=0, num_training_steps=num_training_steps)\n"
   ]
  },
  {
   "cell_type": "code",
   "execution_count": null,
   "id": "ef09b066-5aaa-4830-9716-25ff1838ea25",
   "metadata": {},
   "outputs": [],
   "source": [
    "\n",
    "device = torch.device(\"cuda\" if torch.cuda.is_available() else \"cpu\")\n",
    "model.to(device)\n",
    "for epoch in range(num_epochs):\n",
    "    model.train()\n",
    "    for i, batch in enumerate(train_loader):\n",
    "        source_ids = batch['source_ids'].to(device)\n",
    "        source_mask = batch['source_mask'].to(device)\n",
    "        target_ids = batch['target_ids'].to(device)\n",
    "        \n",
    "        outputs = model(input_ids=source_ids, attention_mask=source_mask, labels=target_ids)\n",
    "        loss = outputs.loss\n",
    "        loss.backward()\n",
    "        \n",
    "        torch.nn.utils.clip_grad_norm_(model.parameters(), 1.0)\n",
    "        \n",
    "        optimizer.step()\n",
    "        scheduler.step()\n",
    "        optimizer.zero_grad()\n",
    "\n",
    "        if i % 10 == 0:\n",
    "            print(f\"Epoch: {epoch}, Iteration: {i}, Loss: {loss.item()}\")\n"
   ]
  },
  {
   "cell_type": "code",
   "execution_count": null,
   "id": "2d8d44e2-6d02-4186-8393-b07702cd7fc5",
   "metadata": {},
   "outputs": [],
   "source": [
    "\n",
    "torch.save(model.state_dict(), '/kaggle/working/trained_model3.pt')"
   ]
  },
  {
   "cell_type": "code",
   "execution_count": null,
   "id": "9f19b6d1-4c5b-46b2-b4e7-07810fdf0284",
   "metadata": {},
   "outputs": [],
   "source": [
    "\n",
    "model.eval()\n",
    "\n",
    "\n",
    "generated_summaries = []\n",
    "\n",
    "for _, row in test_data.iterrows():\n",
    "    source = 'summarize: ' + row['targetParagraphs']\n",
    "    source_tokenized = tokenizer.encode_plus(\n",
    "        source,\n",
    "        max_length=source_len,\n",
    "        pad_to_max_length=True,\n",
    "        return_tensors='pt')\n",
    "\n",
    "    source_ids = source_tokenized['input_ids'].to(device)\n",
    "    source_mask = source_tokenized['attention_mask'].to(device)\n",
    "    \n",
    "    with torch.no_grad():\n",
    "        outputs = model.generate(input_ids=source_ids, attention_mask=source_mask, num_beams=4, length_penalty=0.6)\n",
    "    \n",
    "    generated_summary = tokenizer.decode(outputs[0], skip_special_tokens=True)\n",
    "    print(generated_summary)\n",
    "    generated_summaries.append(generated_summary)\n",
    "\n",
    "\n"
   ]
  },
  {
   "cell_type": "code",
   "execution_count": null,
   "id": "10bd9899-4710-48f6-8367-0abb8376774c",
   "metadata": {},
   "outputs": [],
   "source": [
    "df2 = pd.DataFrame({'id': range(len(generated_summaries)), 'spoiler': generated_summaries})\n",
    "df2"
   ]
  },
  {
   "cell_type": "code",
   "execution_count": null,
   "id": "f2670e16-177a-4cf2-9f4f-3132179bef37",
   "metadata": {},
   "outputs": [],
   "source": [
    "df2.to_csv('/kaggle/working/test_with_summaries3.csv', index=False)"
   ]
  },
  {
   "cell_type": "code",
   "execution_count": null,
   "id": "b869976b-aad2-48ee-87be-e6cd1c6bd503",
   "metadata": {},
   "outputs": [],
   "source": []
  }
 ],
 "metadata": {
  "kernelspec": {
   "display_name": "Python 3 (ipykernel)",
   "language": "python",
   "name": "python3"
  },
  "language_info": {
   "codemirror_mode": {
    "name": "ipython",
    "version": 3
   },
   "file_extension": ".py",
   "mimetype": "text/x-python",
   "name": "python",
   "nbconvert_exporter": "python",
   "pygments_lexer": "ipython3",
   "version": "3.9.7"
  }
 },
 "nbformat": 4,
 "nbformat_minor": 5
}
